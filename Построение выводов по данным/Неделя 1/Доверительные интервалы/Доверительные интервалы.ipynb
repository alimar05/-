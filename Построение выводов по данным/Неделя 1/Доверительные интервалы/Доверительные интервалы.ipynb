{
 "cells": [
  {
   "cell_type": "markdown",
   "metadata": {},
   "source": [
    "Давайте уточним правило трёх сигм. Утверждение: 99.7% вероятностной массы случайной величины\n",
    "$X\\sim N\\left(\\mu,\\sigma^2\\right)$ лежит в интервале $\\mu\\pm c \\cdot \\sigma$. Чему равно точное значение константы $c$? Округлите ответ до четырёх знаков после десятичной точки."
   ]
  },
  {
   "cell_type": "code",
   "execution_count": 6,
   "metadata": {},
   "outputs": [
    {
     "data": {
      "text/plain": [
       "2.9677"
      ]
     },
     "execution_count": 6,
     "metadata": {},
     "output_type": "execute_result"
    }
   ],
   "source": [
    "import numpy as np\n",
    "import pandas as pd\n",
    "import scipy.stats as stats\n",
    "\n",
    "round(stats.norm.ppf(1 - 0.003 / 2), 4)"
   ]
  },
  {
   "cell_type": "markdown",
   "metadata": {},
   "source": [
    "В пятилетнем рандомизированном исследовании Гарвардской медицинской школы 11037 испытуемых через день принимали аспирин, а ещё 11034 — плацебо. Исследование было слепым, то есть, испытуемые не знали, что именно они принимают.\n",
    "\n",
    "За 5 лет инфаркт случился у 104 испытуемых, принимавших аспирин, и у 189 принимавших плацебо.\n",
    "\n",
    "Оцените, насколько вероятность инфаркта снижается при приёме аспирина. Округлите ответ до четырёх знаков после десятичной точки."
   ]
  },
  {
   "cell_type": "code",
   "execution_count": 113,
   "metadata": {},
   "outputs": [
    {
     "data": {
      "text/plain": [
       "0.0077"
      ]
     },
     "execution_count": 113,
     "metadata": {},
     "output_type": "execute_result"
    }
   ],
   "source": [
    "p_asp = 104. / 11037.\n",
    "p_plc = 189. / 11034.\n",
    "\n",
    "round(p_plc - p_asp, 4)"
   ]
  },
  {
   "cell_type": "markdown",
   "metadata": {},
   "source": [
    "Постройте теперь 95% доверительный интервал для снижения вероятности инфаркта при приёме аспирина. Чему равна его верхняя граница? Округлите ответ до четырёх знаков после десятичной точки."
   ]
  },
  {
   "cell_type": "code",
   "execution_count": 198,
   "metadata": {},
   "outputs": [
    {
     "data": {
      "text/plain": [
       "0.0107"
      ]
     },
     "execution_count": 198,
     "metadata": {},
     "output_type": "execute_result"
    }
   ],
   "source": [
    "from scipy import stats\n",
    "\n",
    "def proportions_confint_diff_ind(sample1, sample2, alpha = 0.05):    \n",
    "    z = stats.norm.ppf(1 - alpha / 2.)   \n",
    "    p1 = float(sum(sample1)) / len(sample1)\n",
    "    p2 = float(sum(sample2)) / len(sample2)\n",
    "    \n",
    "    left_boundary = (p1 - p2) - z * np.sqrt(p1 * (1 - p1)/ len(sample1) + p2 * (1 - p2)/ len(sample2))\n",
    "    right_boundary = (p1 - p2) + z * np.sqrt(p1 * (1 - p1)/ len(sample1) + p2 * (1 - p2)/ len(sample2))\n",
    "    \n",
    "    return (left_boundary, right_boundary)\n",
    "\n",
    "# Биномиальное распределение при приёме плацебо\n",
    "plc_sample = np.hstack((np.ones(shape=189), np.zeros(shape=11034 - 189)))\n",
    "np.random.shuffle(plc_sample)\n",
    "\n",
    "# Биномиальное распределение при приёме аспирина\n",
    "asp_sample = np.hstack((np.ones(shape=104), np.zeros(shape=11037 - 104)))\n",
    "np.random.shuffle(asp_sample)\n",
    "\n",
    "conf_interval = proportions_confint_diff_ind(plc_sample, asp_sample)\n",
    "round(conf_interval[1], 4)"
   ]
  },
  {
   "cell_type": "markdown",
   "metadata": {},
   "source": [
    "Продолжим анализировать данные эксперимента Гарвардской медицинской школы.\n",
    "\n",
    "Для бернуллиевских случайных величин $X\\sim Ber(p)$ часто вычисляют величину $\\frac{p}{1-p}$, которая называется шансами (odds). Чтобы оценить шансы по выборке, вместо $p$ нужно подставить $\\hat{p}$ Например, шансы инфаркта в контрольной группе, принимавшей плацебо, можно оценить как\n",
    "$\\frac{\\frac{189}{11034}}{1-\\frac{189}{11034}} = \\frac{189}{11034-189}\\approx 0.0174$ Оцените, во сколько раз понижаются шансы инфаркта при регулярном приёме аспирина. Округлите ответ до четырёх знаков после десятичной точки."
   ]
  },
  {
   "cell_type": "code",
   "execution_count": 60,
   "metadata": {},
   "outputs": [
    {
     "data": {
      "text/plain": [
       "1.8321"
      ]
     },
     "execution_count": 60,
     "metadata": {},
     "output_type": "execute_result"
    }
   ],
   "source": [
    "odds_asp = p_asp / (1 - p_asp)\n",
    "odds_plc = p_plc / (1 - p_plc)\n",
    "\n",
    "round(odds_plc / odds_asp, 4)"
   ]
  },
  {
   "cell_type": "markdown",
   "metadata": {},
   "source": [
    "Величина, которую вы оценили в предыдущем вопросе, называется отношением шансов. Постройте для отношения шансов 95% доверительный интервал с помощью бутстрепа. Чему равна его нижняя граница? Округлите ответ до 4 знаков после десятичной точки.\n",
    "\n",
    "Чтобы получить в точности такой же доверительный интервал, как у нас:\n",
    "\n",
    "* составьте векторы исходов в контрольной и тестовой выборках так, чтобы в начале шли все единицы, потом все нули;\n",
    "* установите random seed=0;\n",
    "* сделайте по 1000 псевдовыборок из каждой группы пациентов с помощью функции get_bootstrap_samples."
   ]
  },
  {
   "cell_type": "code",
   "execution_count": 224,
   "metadata": {},
   "outputs": [
    {
     "data": {
      "text/plain": [
       "1.4629"
      ]
     },
     "execution_count": 224,
     "metadata": {},
     "output_type": "execute_result"
    }
   ],
   "source": [
    "np.random.seed(0)\n",
    "\n",
    "def get_chance(sample):\n",
    "    return float(sum(sample) / (len(sample) - sum(sample)))\n",
    "\n",
    "def get_bootstrap_samples(data, n_samples):\n",
    "    indices = np.random.randint(0, len(data), (n_samples, len(data)))\n",
    "    samples = data[indices]\n",
    "    return samples\n",
    "\n",
    "def stat_intervals(stat, alpha):\n",
    "    boundaries = np.percentile(stat, [100 * alpha / 2., 100 * (1 - alpha / 2.)])\n",
    "    return boundaries\n",
    "\n",
    "# Биномиальное распределение при приёме плацебо\n",
    "plc_sample = np.hstack((np.ones(shape=189), np.zeros(shape=11034 - 189)))\n",
    "# Биномиальное распределение при приёме аспирина\n",
    "asp_sample = np.hstack((np.ones(shape=104), np.zeros(shape=11037 - 104)))\n",
    "\n",
    "plc_chance = np.array(list(map(get_chance, get_bootstrap_samples(plc_sample, 1000))))\n",
    "asp_chance = np.array(list(map(get_chance, get_bootstrap_samples(asp_sample, 1000))))\n",
    "\n",
    "round(stat_intervals(plc_chance / asp_chance, 0.05)[0], 4)"
   ]
  },
  {
   "cell_type": "code",
   "execution_count": 238,
   "metadata": {},
   "outputs": [
    {
     "data": {
      "text/plain": [
       "3.918634755068266e-42"
      ]
     },
     "execution_count": 238,
     "metadata": {},
     "output_type": "execute_result"
    }
   ],
   "source": [
    "stats.t.sf(23.21, 99)"
   ]
  }
 ],
 "metadata": {
  "kernelspec": {
   "display_name": "Python 3",
   "language": "python",
   "name": "python3"
  },
  "language_info": {
   "codemirror_mode": {
    "name": "ipython",
    "version": 3
   },
   "file_extension": ".py",
   "mimetype": "text/x-python",
   "name": "python",
   "nbconvert_exporter": "python",
   "pygments_lexer": "ipython3",
   "version": "3.7.4"
  }
 },
 "nbformat": 4,
 "nbformat_minor": 4
}
