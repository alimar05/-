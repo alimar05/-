{
 "cells": [
  {
   "cell_type": "code",
   "execution_count": 53,
   "metadata": {},
   "outputs": [],
   "source": [
    "import numpy as np\n",
    "from sklearn import datasets, model_selection\n",
    "\n",
    "X, y = datasets.load_digits(return_X_y=True)"
   ]
  },
  {
   "cell_type": "code",
   "execution_count": 54,
   "metadata": {},
   "outputs": [
    {
     "name": "stdout",
     "output_type": "stream",
     "text": [
      "0.8269304779639975\n"
     ]
    }
   ],
   "source": [
    "# Задание 1\n",
    "from sklearn.tree import DecisionTreeClassifier\n",
    "\n",
    "clf = DecisionTreeClassifier()\n",
    "clf.fit(X, y)\n",
    "best_score = np.mean(model_selection.cross_val_score(clf, X, y, cv=10, n_jobs=-1))\n",
    "print(best_score)\n",
    "with open('Задание 1.txt', 'w') as f:\n",
    "    f.write(str(best_score))"
   ]
  },
  {
   "cell_type": "code",
   "execution_count": 55,
   "metadata": {},
   "outputs": [
    {
     "name": "stdout",
     "output_type": "stream",
     "text": [
      "0.9209528243327127\n"
     ]
    }
   ],
   "source": [
    "# Задание 2\n",
    "from sklearn.ensemble import BaggingClassifier\n",
    "\n",
    "clf = BaggingClassifier(n_estimators=100, n_jobs=-1)\n",
    "clf.fit(X, y)\n",
    "best_score = np.mean(model_selection.cross_val_score(clf, X, y, cv=10, n_jobs=-1))\n",
    "print(best_score)\n",
    "with open('Задание 2.txt', 'w') as f:\n",
    "    f.write(str(best_score))"
   ]
  },
  {
   "cell_type": "code",
   "execution_count": 56,
   "metadata": {},
   "outputs": [
    {
     "name": "stdout",
     "output_type": "stream",
     "text": [
      "0.9232184978274363\n"
     ]
    }
   ],
   "source": [
    "# Задание 3\n",
    "from sklearn.ensemble import BaggingClassifier\n",
    "\n",
    "clf = BaggingClassifier(n_estimators=100, max_features=int(np.sqrt(X.shape[1])), n_jobs=-1)\n",
    "clf.fit(X, y)\n",
    "best_score = np.mean(model_selection.cross_val_score(clf, X, y, cv=10, n_jobs=-1))\n",
    "print(best_score)\n",
    "with open('Задание 3.txt', 'w') as f:\n",
    "    f.write(str(best_score))"
   ]
  },
  {
   "cell_type": "code",
   "execution_count": 57,
   "metadata": {},
   "outputs": [
    {
     "name": "stdout",
     "output_type": "stream",
     "text": [
      "0.9488081936685289\n"
     ]
    }
   ],
   "source": [
    "# Задание 4\n",
    "from sklearn.tree import DecisionTreeClassifier\n",
    "from sklearn.ensemble import BaggingClassifier\n",
    "\n",
    "estimator = DecisionTreeClassifier(max_features=int(np.sqrt(X.shape[1])))\n",
    "clf = BaggingClassifier(base_estimator=estimator, n_estimators=100, n_jobs=-1)\n",
    "clf.fit(X, y)\n",
    "best_score = np.mean(model_selection.cross_val_score(clf, X, y, cv=10, n_jobs=-1))\n",
    "print(best_score)\n",
    "with open('Задание 4.txt', 'w') as f:\n",
    "    f.write(str(best_score))"
   ]
  },
  {
   "cell_type": "code",
   "execution_count": 77,
   "metadata": {},
   "outputs": [],
   "source": [
    "# Задание 5\n",
    "from sklearn.ensemble import RandomForestClassifier\n",
    "\n",
    "def clf_best_score(X=X, y=y, n_estimators=50, max_depth=None, max_features='auto', n_jobs=-1):\n",
    "    clf = RandomForestClassifier(n_estimators=n_estimators,\n",
    "                                 max_depth=max_depth,\n",
    "                                 max_features=max_features,\n",
    "                                 n_jobs=n_jobs)\n",
    "    clf.fit(X, y)\n",
    "    return np.mean(model_selection.cross_val_score(clf, X, y, cv=10, n_jobs=-1))\n",
    "\n",
    "best_score_of_n_estimators = [clf_best_score(n_estimators=n_estimators)\n",
    "                              for n_estimators in np.arange(10, 60, 10)]\n",
    "\n",
    "best_score_of_max_depth = [clf_best_score(max_depth=max_depth)\n",
    "                           for max_depth in np.arange(5, 22, 2)]\n",
    "\n",
    "best_score_of_max_features = [clf_best_score(max_features=max_features)\n",
    "                              for max_features in np.arange(10, 60, 10)]"
   ]
  }
 ],
 "metadata": {
  "kernelspec": {
   "display_name": "Python 3",
   "language": "python",
   "name": "python3"
  },
  "language_info": {
   "codemirror_mode": {
    "name": "ipython",
    "version": 3
   },
   "file_extension": ".py",
   "mimetype": "text/x-python",
   "name": "python",
   "nbconvert_exporter": "python",
   "pygments_lexer": "ipython3",
   "version": "3.7.4"
  }
 },
 "nbformat": 4,
 "nbformat_minor": 4
}
